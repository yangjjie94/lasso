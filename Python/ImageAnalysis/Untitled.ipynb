{
 "cells": [
  {
   "cell_type": "code",
   "execution_count": 1,
   "metadata": {},
   "outputs": [],
   "source": [
    "from PIL import Image\n",
    "import numpy as np\n",
    "import pandas as pd\n",
    "import os\n",
    "import sys\n",
    "import glob\n",
    "import time\n",
    "import itertools\n",
    "import random\n",
    "import scipy.misc\n",
    "import pickle  \n",
    "\n",
    "from PyQt5 import QtWidgets\n",
    "import matplotlib\n",
    "matplotlib.use('Qt5Agg')   # 允许GUI式matplotlib，即有弹窗. it must be set before import pyplot\n",
    "import matplotlib.pyplot as plt\n",
    "from matplotlib.backends.backend_qt5agg import FigureCanvasQTAgg as FigureCanvas\n",
    "from matplotlib.backends.backend_qt5 import NavigationToolbar2QT as NavigationToolbar\n",
    "from matplotlib.figure import Figure\n"
   ]
  },
  {
   "cell_type": "code",
   "execution_count": 2,
   "metadata": {},
   "outputs": [],
   "source": [
    "# path\n",
    "class path:  \n",
    "    def __init__(self, abs_path_str=''):\n",
    "        \"\"\n",
    "        self.abs_path_str = abs_path_str\n",
    "#         , i_dir=1, i_subdir=1, i_img=1\n",
    "#         self.i_dir = i_dir\n",
    "#         self.i_subdir = i_subdir\n",
    "#         self.i_img = i_img\n",
    "        self.i_dir = 0\n",
    "        self.i_subdir = 0\n",
    "        self.i_img = 0\n",
    "        if self.abs_path_str == '':\n",
    "            self.abs_path_str = input(\"请输入数据文件夹的绝对路径：如 E:\\zhouhan\")\n",
    "        assert os.path.exists(self.abs_path_str), \"invalid dir path\"  # 必须填入有效的起始文件夹data的绝对路径名称\n",
    "        \n",
    "        self.update_path()\n",
    "        self.regulate_dir()\n",
    "        self.update_path()\n",
    "    \n",
    "    def update_path(self):\n",
    "        # update dirs\n",
    "        items = os.listdir(self.abs_path_str)  # PATH下的所有item\n",
    "        self.dirs = [item for item in items if os.path.isdir(os.path.join(self.abs_path_str, item))] # 所有item中的所有文件夹\n",
    "        self.n_dirs = len(self.dirs)\n",
    "#         self.dirs = dict(zip(range(1,len(self.dirs)+1,1),self.dirs))\n",
    "        # 如果没有创建 子文件夹 的话，按照.hsv文件的名称创建，并以列表的字典形式{dir: list_subdir}记录所有subdirs\n",
    "        self.subdirs = {}\n",
    "        for i, dir in enumerate(self.dirs):\n",
    "            list_hsv = glob.glob(self.abs_path_str+'\\\\'+dir+'\\\\*.hsv') # 列出该文件夹下所有hsv文件的路径\n",
    "            list_subdir = [s.split('.')[0].split(\"\\\\\")[-1] for s in list_hsv] # 列出该文件夹下所有hsv文件的名字，注意，不包括后缀.hsv\n",
    "            self.subdirs[dir] = list_subdir  # 更新subdirs词典\n",
    "#             dct_subdir = dict(zip(range(1,len(list_subdir)+1,1),list_subdir))\n",
    "#             self.subdirs[dir] = dct_subdir  # 更新subdirs词典\n",
    "\n",
    "            # 如果没有创建子文件夹，那么逐文件夹新建和.hsv文件同名的子文件夹\n",
    "            for subdir in list_subdir:\n",
    "                if not os.path.exists(self.abs_path_str+\"\\\\\"+dir+\"\\\\\"+subdir):\n",
    "                    os.mkdir(self.abs_path_str+\"\\\\\"+dir+\"\\\\\"+subdir) \n",
    "        self.n_subdirs = {}\n",
    "        for i, dir in enumerate(self.dirs):\n",
    "            self.n_subdirs[dir] = len(self.subdirs[dir])\n",
    "        self.n_img = 3767\n",
    "        print(\"update path done!\")\n",
    "        return None\n",
    "        \n",
    "    def regulate_dir(self):\n",
    "        pass\n",
    "        # 改成全大写\n",
    "        # 改名，将所有experiments级文件夹名由小写改为大写并重新获取目录\n",
    "        for dir in self.dirs:\n",
    "            if dir.islower():\n",
    "                os.rename(self.abs_path_str+\"\\\\\"+dir, self.abs_path_str+\"\\\\\"+dir.upper())        \n",
    "        # 去掉空格\n",
    "        print(\"regulate_dir done!\")\n",
    "        self.update_path()\n",
    "        return None\n",
    "    \n",
    "    def display(self, n_dir=None):\n",
    "        print(\"------list of directories------\")\n",
    "        for i,j in enumerate(self.dirs, start=1):\n",
    "            print(str(i).rjust(2) + \":\" + str(j).rjust(12))    \n",
    "        if n_dir:\n",
    "            print(\"------list of subdirectories------\")\n",
    "            for i,j in enumerate(self.subdirs[self.dirs[n_dir-1]], start=1):\n",
    "                print(str(i).rjust(2) + \":\" + str(j).rjust(12))\n",
    "        return None\n",
    "    \n",
    "    def return_path(self):\n",
    "#         assert(- self.n_dirs <= self.i_dir < self.n_dirs and\n",
    "#                - self.n_subdirs[self.dirs[self.i_dir]] <= self.i_subdir < self.n_subdirs[self.dirs[self.i_dir]] and\n",
    "#                - self.n_img <= self.i_img <= self.n_img), \"invalid index of dir or subdir\"\n",
    "\n",
    "        self.dir_name = self.dirs[self.i_dir]\n",
    "        self.subdir_name = self.subdirs[self.dirs[self.i_dir]][self.i_subdir]\n",
    "        self.img_name = self.subdir_name + '_' + str(self.i_img).zfill(4) + '.jpg'\n",
    "        return self.abs_path_str+\"\\\\\"+self.dir_name+\"\\\\\"+self.subdir_name + \"\\\\\" +self.img_name\n",
    "    \n",
    "    def set_path(self,i_dir, i_subdir, i_img):\n",
    "        self.i_dir = i_dir\n",
    "        self.i_subdir = i_subdir\n",
    "        self.i_img = i_img\n",
    "        if self.i_dir > 0:\n",
    "            self.i_dir -= 1\n",
    "        if self.i_subdir > 0:\n",
    "            self.i_subdir -= 1\n",
    "#         if self.i_img > 0:\n",
    "#             self.i_img -= 1\n",
    "        return None\n",
    "\n",
    "    def get_path(self,i_dir, i_subdir, i_img):\n",
    "        if i_dir > 0:\n",
    "            i_dir -= 1\n",
    "        if i_subdir > 0:\n",
    "            i_subdir -= 1\n",
    "#         if i_img > 0:\n",
    "#             i_img -= 1\n",
    "        assert (- self.n_dirs <= i_dir < self.n_dirs and\n",
    "                - self.n_subdirs[self.dirs[i_dir]] <= i_subdir < self.n_subdirs[self.dirs[i_dir]] and\n",
    "                - self.n_img <= i_img < self.n_img), \"invalid index of dir or subdir\"\n",
    "\n",
    "        dir_name = self.dirs[i_dir]\n",
    "        subdir_name = self.subdirs[self.dirs[i_dir]][i_subdir]\n",
    "        img_name = subdir_name + '_' + str(i_img).zfill(4) + '.jpg'\n",
    "        return self.abs_path_str+\"\\\\\"+dir_name+\"\\\\\"+subdir_name + \"\\\\\" +img_name        \n",
    "\n",
    "    def return_range(self, i_dir, i_subdir, i_img, stop=3767, step=1):\n",
    "        self.set_path(i_dir, i_subdir, i_img)\n",
    "        assert (- self.n_dirs <= i_dir < self.n_dirs and\n",
    "                - self.n_subdirs[self.dirs[i_dir]] <= i_subdir < self.n_subdirs[self.dirs[i_dir]] and\n",
    "                - self.n_img <= i_img < self.n_img and\n",
    "                1 <= stop <= self.n_img)\n",
    "        for i in range(i_img,stop+1,1):\n",
    "            if not (- self.n_dirs <= self.i_dir < self.n_dirs and\n",
    "                    - self.n_subdirs[self.dirs[self.i_dir]] <= self.i_subdir < self.n_subdirs[self.dirs[self.i_dir]] and\n",
    "                    - self.n_img <= self.i_img < min(stop, self.n_img)+1):\n",
    "                raise StopIteration\n",
    "            else:\n",
    "                yield self.return_path()                  \n",
    "                self.i_img += step\n",
    "        \n",
    "#     def __next__(self, step=1):\n",
    "#         if not (- self.n_dirs <= self.i_dir < self.n_dirs and\n",
    "#                 - self.n_subdirs[self.dirs[self.i_dir]] <= self.i_subdir < self.n_subdirs[self.dirs[self.i_dir]] and\n",
    "#                 - self.n_img <= self.i_img < self.n_img):\n",
    "#             raise StopIteration\n",
    "#         else:\n",
    "#             self.i_img += step\n",
    "#             return self.return_path()      "
   ]
  },
  {
   "cell_type": "code",
   "execution_count": 3,
   "metadata": {},
   "outputs": [
    {
     "name": "stdout",
     "output_type": "stream",
     "text": [
      "update path done!\n",
      "regulate_dir done!\n",
      "update path done!\n",
      "update path done!\n"
     ]
    }
   ],
   "source": [
    "paths = path(\"E:\\zhouhan\")"
   ]
  },
  {
   "cell_type": "code",
   "execution_count": 4,
   "metadata": {},
   "outputs": [],
   "source": [
    "##paths.display()"
   ]
  },
  {
   "cell_type": "code",
   "execution_count": 5,
   "metadata": {},
   "outputs": [],
   "source": [
    "# paths.display(n_dir=2)"
   ]
  },
  {
   "cell_type": "code",
   "execution_count": 6,
   "metadata": {},
   "outputs": [],
   "source": [
    "# paths.get_path(2,1,1)"
   ]
  },
  {
   "cell_type": "code",
   "execution_count": 7,
   "metadata": {},
   "outputs": [],
   "source": [
    "class breakage_distribution:\n",
    "    def __init__(self,paths=paths):\n",
    "        HEADER = ['x', 'y', 'circle', 'dir', 'pic', 'subdir', 'timestamp']\n",
    "        self.pts = pd.DataFrame(columns=HEADER)\n",
    "        self.lens = pd.DataFrame(columns=[])\n",
    "    \n",
    "    def get_pts(self, i_dir, i_subdir, i_img, stop=3767, step=1):\n",
    "        \"\"\"循环读取图片，然后标注，结束循环后输入n\"\"\"\n",
    "        pts = []\n",
    "        for p in paths.return_range(i_dir=i_dir, i_subdir=i_subdir, i_img=i_img, stop=stop, step=step):\n",
    "            im = Image.open(p)\n",
    "            plt.imshow(im)\n",
    "            title_pic = p.split(\".\")[0].split(\" / \")[-1].split(\"_\")[-1]\n",
    "            start = int(title_pic)\n",
    "            print(\"正在标注%s:\" % title_pic)            \n",
    "            plt.title(title_pic)\n",
    "            grid_X,grid_Y =  zip(*[(200,100),(200,600), (200,100),(1000,100),\n",
    "                                   (200,350),(1000,350),(400,100),(400,600),\n",
    "                                   (600,100),(600,600), (800,100),(800,600)])\n",
    "            for n_grid in range(min(len(grid_X),len(grid_Y)) // 2):\n",
    "                plt.plot(grid_X[2*n_grid: 2*n_grid+2], grid_Y[2*n_grid: 2*n_grid+2],'k--',lw=1)\n",
    "            grid_X,grid_Y =  zip(*[(1000,100),(1000,600),(200,600),(1000,600)])\n",
    "            for n_grid in range(min(len(grid_X),len(grid_Y)) // 2):\n",
    "                plt.plot(grid_X[2*n_grid: 2*n_grid+2], grid_Y[2*n_grid: 2*n_grid+2],'k-',lw=1)\n",
    "            tmp_pts = []\n",
    "            tmp_pts = plt.ginput(n=-1, timeout=0, show_clicks=True)\n",
    "            # 如果数据不合格就重新标注一下当前\n",
    "            if not self.isvalid(tmp_pts):\n",
    "                print(\"重新标注%s\" % title_pic)\n",
    "                tmp_pts = []\n",
    "                self.get_pts(i_dir, i_subdir, i_img=start, stop=start+1)\n",
    "                continue\n",
    "            pts += tmp_pts\n",
    "            print(\"完成小标注%s:\" % title_pic)  \n",
    "            # \n",
    "        reply = input(\"\"\"Again! press \"a\"\n",
    "                             Quit! press \"q\"\n",
    "                             Done! press \"d\" \"\"\")\n",
    "#             plt.show()               \n",
    "        # 整理格式为DataFrame \n",
    "        print(\"完成标注 %s:\" %title_pic)\n",
    "        \n",
    "        return self.pts\n",
    "    \n",
    "    def pts2len(self):\n",
    "        def get_d_equiv(df):\n",
    "            \"\"\"输入连续的4条坐标信息，返回这四个点确定的圆的直径\"\"\"\n",
    "        #     print(\"\\n\\n------------------\\n\")\n",
    "        #     print(df)\n",
    "            x = df['x'].values\n",
    "            y = df['y'].values\n",
    "        #     print(x,\"\\n\")\n",
    "        #     print(y,\"\\n\")\n",
    "        #     x = [3,0,3,6]\n",
    "        #     y = [4,0,8,4]\n",
    "            laxis = np.hypot(abs(x[0]-x[1]), abs(y[0]-y[1]))  # 长轴\n",
    "            saxis = np.hypot(abs(x[2]-x[3]), abs(y[2]-y[3]))  # 短轴\n",
    "            get_geo_mean = lambda x: np.sqrt(x[0]*x[1])\n",
    "        #     print(get_geo_mean((laxis, saxis)))\n",
    "            return get_geo_mean((laxis, saxis))\n",
    "\n",
    "\n",
    "        data_diameters = data_copy.groupby(by=[\"dir\", \"subdir\", 'pic', \"circle\"])[['x','y']].apply(get_d_equiv)\n",
    "        # data_diameters\n",
    "        data_diameters.to_csv(PREFIX+'_diameters.csv', header=[\"diameter\"])\n",
    "\n",
    "        data_diameters = data_diameters.reset_index(level=[0,1,2,3])\n",
    "\n",
    "        data_diameters.rename_axis({0:\"diameter\"},axis=1)\n",
    "        data_diameters.to_csv(PREFIX+\"_diameters.csv\", header=True)\n",
    "\n",
    "        data_diameters.head(10)\n",
    "\n",
    "    def isvalid(self,pts):\n",
    "        # 如果pts是空的\n",
    "#         if len(pts) == 0:\n",
    "#             return False\n",
    "        # 如果不满足 正好4个一组\n",
    "        if np.mod(len(pts), 4) != 0:\n",
    "            return False\n",
    "        # 如果每组四个点两两之间的距离过大（大于250）\n",
    "        for start, stop in zip(range(0, len(pts)-1, 4), range(4, len(pts)+1, 4)): \n",
    "            for a, b in itertools.combinations(pts[start: stop], 2): \n",
    "                if (abs(a[0] - b[0]) > 250 or abs(a[1] - b[1]) > 250):\n",
    "                    return False\n",
    "        if False:# 如果没有按照对角线顺序选取\n",
    "            return False\n",
    "    #     if s=input(\"Sure to sumbit?\") # 用户确认功能\n",
    "        else:\n",
    "            return True\n"
   ]
  },
  {
   "cell_type": "code",
   "execution_count": 8,
   "metadata": {},
   "outputs": [],
   "source": [
    "bd = breakage_distribution(paths)"
   ]
  },
  {
   "cell_type": "code",
   "execution_count": null,
   "metadata": {},
   "outputs": [
    {
     "name": "stdout",
     "output_type": "stream",
     "text": [
      "正在标注0001:\n"
     ]
    },
    {
     "name": "stderr",
     "output_type": "stream",
     "text": [
      "C:\\ProgramData\\Anaconda3\\envs\\stat\\lib\\site-packages\\matplotlib\\backend_bases.py:2453: MatplotlibDeprecationWarning: Using default event loop until function specific to this GUI is implemented\n",
      "  warnings.warn(str, mplDeprecation)\n"
     ]
    },
    {
     "name": "stdout",
     "output_type": "stream",
     "text": [
      "完成小标注0001:\n",
      "正在标注0002:\n",
      "完成小标注0002:\n",
      "正在标注0003:\n",
      "重新标注0003\n",
      "正在标注0003:\n",
      "完成小标注0003:\n",
      "正在标注0004:\n"
     ]
    }
   ],
   "source": [
    "bd.get_pts(2,1,1,stop=3767, step=500)"
   ]
  },
  {
   "cell_type": "code",
   "execution_count": null,
   "metadata": {},
   "outputs": [],
   "source": [
    "print(\"\"\"save the result above? input \"s\" \n",
    "\"\"\")"
   ]
  },
  {
   "cell_type": "code",
   "execution_count": null,
   "metadata": {},
   "outputs": [],
   "source": [
    "def \n",
    "for p in paths.return_range(i_dir=2, i_subdir=1, i_img=1, stop=11, step=5):\n",
    "    \n",
    "    for img_index, img_path in zip(range(iimg,stop,step), img_paths):\n",
    "        name_experiment = img_path.split(\".\")[0].split(\"\\\\\")[-1].split(\"_\")[0]\n",
    "        name_pic = img_path.split(\".\")[0].split(\" / \")[-1].split(\"_\")[-1]\n",
    "        print(\"正在标注%s:\" % name_pic)\n",
    "        im = Image.open(img_path)\n",
    "        plt.imshow(im)\n",
    "        grid_X,grid_Y =  zip(*[(200,100),(200,600), (200,100),(1000,100),\n",
    "                               (200,350),(1000,350),(400,100),(400,600),\n",
    "                               (600,100),(600,600), (800,100),(800,600)])\n",
    "        for n_grid in range(min(len(grid_X),len(grid_Y)) // 2):\n",
    "            plt.plot(grid_X[2*n_grid: 2*n_grid+2], grid_Y[2*n_grid: 2*n_grid+2],'k--',lw=1)\n",
    "        grid_X,grid_Y =  zip(*[(1000,100),(1000,600),(200,600),(1000,600)])\n",
    "        for n_grid in range(min(len(grid_X),len(grid_Y)) // 2):\n",
    "            plt.plot(grid_X[2*n_grid: 2*n_grid+2], grid_Y[2*n_grid: 2*n_grid+2],'k-',lw=1)\n",
    "        \n",
    "        plt.title(name_experiment + \": \" + str(idir) + \" / \" + str(isubdir) + \" / \" + name_pic)\n",
    "\n",
    "        pts = []\n",
    "#         plt.text(10, 10, \"Notes: must pick points in diagonal order, or will not pass the test and redo\")\n",
    "        pts = plt.ginput(n=-1, timeout=0, show_clicks=True)\n",
    "\n",
    "        \n",
    "        # 如果数据不合格就重新标注一遍\n",
    "        if not isvalid(pts):\n",
    "            print(\"重新标注%s\" % name_pic)\n",
    "            pts = []\n",
    "            load_image_path(idir, isubdir, iimg=img_index, stop=img_index+1)\n",
    "            continue\n",
    "        \n",
    "        print(\"完成标注 %s:\" %name_pic)\n",
    "        \n",
    "        # 保存数据\n",
    "        n_circle = int(len(pts)/4)\n",
    "        circle = []\n",
    "        for i in range(n_circle):\n",
    "            circle += [i] * 4\n",
    "        df_circle = pd.DataFrame(circle, columns=['circle'])\n",
    "        df_dir = pd.DataFrame({'dir':[dirs[idir]]*len(pts),\n",
    "                               'subdir': [subdirs[dirs[idir]][isubdir]]*len(pts), \n",
    "                               \"timestamp\":[time.asctime()]*len(pts),\n",
    "                               \"pic\":name_pic})\n",
    "        df_pts = pd.DataFrame(pts, columns=list(\"xy\"), copy=True)\n",
    "        df_data = pd.concat([df_pts, df_circle,df_dir], axis=1)\n",
    "        print(df_data)\n",
    "        # if os.getcwd()+\n",
    "        df_data.to_csv(os.getcwd()+\"\\\\data_\" + str(subdirs[dirs[idir]][isubdir]) + \".csv\",mode='a', header=False)\n",
    "        print(\"数据保存完毕\")\n",
    "    print(\"所有数据保存完毕，程序退出\")\n",
    "    plt.close()\n",
    "    return None"
   ]
  },
  {
   "cell_type": "code",
   "execution_count": null,
   "metadata": {},
   "outputs": [],
   "source": []
  },
  {
   "cell_type": "code",
   "execution_count": null,
   "metadata": {},
   "outputs": [],
   "source": [
    "\n",
    "# ********************************\n",
    "# DO NOT CHANGE ANYTHING BELOW !!!\n",
    "# ********************************\n"
   ]
  },
  {
   "cell_type": "code",
   "execution_count": null,
   "metadata": {},
   "outputs": [],
   "source": []
  },
  {
   "cell_type": "code",
   "execution_count": 172,
   "metadata": {},
   "outputs": [
    {
     "ename": "TypeError",
     "evalue": "'path' object is not iterable",
     "output_type": "error",
     "traceback": [
      "\u001b[1;31m------------------------------------------------------------------\u001b[0m",
      "\u001b[1;31mTypeError\u001b[0m                        Traceback (most recent call last)",
      "\u001b[1;32m<ipython-input-172-84c4db2fb615>\u001b[0m in \u001b[0;36m<module>\u001b[1;34m()\u001b[0m\n\u001b[0;32m      1\u001b[0m \u001b[0mpaths\u001b[0m\u001b[1;33m.\u001b[0m\u001b[0mset_path\u001b[0m\u001b[1;33m(\u001b[0m\u001b[1;36m2\u001b[0m\u001b[1;33m,\u001b[0m\u001b[1;36m1\u001b[0m\u001b[1;33m,\u001b[0m\u001b[1;36m1\u001b[0m\u001b[1;33m)\u001b[0m\u001b[1;33m\u001b[0m\u001b[0m\n\u001b[1;32m----> 2\u001b[1;33m \u001b[1;32mfor\u001b[0m \u001b[0mp\u001b[0m \u001b[1;32min\u001b[0m \u001b[0mpaths\u001b[0m\u001b[1;33m:\u001b[0m\u001b[1;33m\u001b[0m\u001b[0m\n\u001b[0m\u001b[0;32m      3\u001b[0m     \u001b[0mim\u001b[0m \u001b[1;33m=\u001b[0m \u001b[0mImage\u001b[0m\u001b[1;33m.\u001b[0m\u001b[0mopen\u001b[0m\u001b[1;33m(\u001b[0m\u001b[0mpaths\u001b[0m\u001b[1;33m.\u001b[0m\u001b[0mget_path\u001b[0m\u001b[1;33m(\u001b[0m\u001b[1;36m2\u001b[0m\u001b[1;33m,\u001b[0m\u001b[1;36m1\u001b[0m\u001b[1;33m,\u001b[0m\u001b[1;36m1\u001b[0m\u001b[1;33m)\u001b[0m\u001b[1;33m)\u001b[0m\u001b[1;33m\u001b[0m\u001b[0m\n\u001b[0;32m      4\u001b[0m     \u001b[0mplt\u001b[0m\u001b[1;33m.\u001b[0m\u001b[0mimshow\u001b[0m\u001b[1;33m(\u001b[0m\u001b[0mim\u001b[0m\u001b[1;33m)\u001b[0m\u001b[1;33m\u001b[0m\u001b[0m\n\u001b[0;32m      5\u001b[0m     \u001b[0mplt\u001b[0m\u001b[1;33m.\u001b[0m\u001b[0mshow\u001b[0m\u001b[1;33m(\u001b[0m\u001b[1;33m)\u001b[0m\u001b[1;33m\u001b[0m\u001b[0m\n",
      "\u001b[1;31mTypeError\u001b[0m: 'path' object is not iterable"
     ]
    }
   ],
   "source": [
    "paths.set_path(2,1,1)\n",
    "for p in paths:\n",
    "    im = Image.open(paths.get_path(2,1,1))\n",
    "    plt.imshow(im)\n",
    "    plt.show()    \n",
    "    "
   ]
  },
  {
   "cell_type": "code",
   "execution_count": 155,
   "metadata": {},
   "outputs": [],
   "source": [
    "im = Image.open(paths.get_path(2,1,1))\n",
    "plt.imshow(im)\n",
    "plt.show()"
   ]
  },
  {
   "cell_type": "code",
   "execution_count": 121,
   "metadata": {},
   "outputs": [],
   "source": [
    "paths = 'E:\\zhouhan'"
   ]
  },
  {
   "cell_type": "code",
   "execution_count": 80,
   "metadata": {},
   "outputs": [
    {
     "data": {
      "text/plain": [
       "True"
      ]
     },
     "execution_count": 80,
     "metadata": {},
     "output_type": "execute_result"
    }
   ],
   "source": [
    "os.path.exists(paths)"
   ]
  },
  {
   "cell_type": "code",
   "execution_count": 23,
   "metadata": {},
   "outputs": [],
   "source": [
    "lst=list('abcdefg')"
   ]
  },
  {
   "cell_type": "code",
   "execution_count": 25,
   "metadata": {},
   "outputs": [
    {
     "data": {
      "text/plain": [
       "{1: 'a', 2: 'b', 3: 'c', 4: 'd', 5: 'e', 6: 'f', 7: 'g'}"
      ]
     },
     "execution_count": 25,
     "metadata": {},
     "output_type": "execute_result"
    }
   ],
   "source": [
    "dict(zip(range(1,len(lst)+1,1),lst))"
   ]
  },
  {
   "cell_type": "code",
   "execution_count": 27,
   "metadata": {},
   "outputs": [
    {
     "data": {
      "text/plain": [
       "True"
      ]
     },
     "execution_count": 27,
     "metadata": {},
     "output_type": "execute_result"
    }
   ],
   "source": [
    "n_subdir=0\n",
    "not n_subdir"
   ]
  },
  {
   "cell_type": "code",
   "execution_count": 90,
   "metadata": {},
   "outputs": [
    {
     "data": {
      "text/plain": [
       "False"
      ]
     },
     "execution_count": 90,
     "metadata": {},
     "output_type": "execute_result"
    }
   ],
   "source": [
    "i = 0\n",
    "1 <= i <= 11"
   ]
  },
  {
   "cell_type": "code",
   "execution_count": null,
   "metadata": {},
   "outputs": [],
   "source": []
  },
  {
   "cell_type": "code",
   "execution_count": null,
   "metadata": {},
   "outputs": [],
   "source": []
  },
  {
   "cell_type": "code",
   "execution_count": 4,
   "metadata": {},
   "outputs": [
    {
     "data": {
      "text/plain": [
       "['nihk', '\\tkkk', '']"
      ]
     },
     "execution_count": 4,
     "metadata": {},
     "output_type": "execute_result"
    }
   ],
   "source": [
    "ss = 'nihk \\tkkk '\n",
    "ss.split(' ')"
   ]
  },
  {
   "cell_type": "code",
   "execution_count": 5,
   "metadata": {},
   "outputs": [
    {
     "data": {
      "text/plain": [
       "<zip at 0x1da5367e6c8>"
      ]
     },
     "execution_count": 5,
     "metadata": {},
     "output_type": "execute_result"
    }
   ],
   "source": [
    "a = [\"foo\", 2, \"bar\", 4, \"far\", 6]\n",
    "group_adjacent = lambda x, k: zip(*([iter(x)] * k))\n",
    "group_adjacent(a,2)"
   ]
  },
  {
   "cell_type": "code",
   "execution_count": 6,
   "metadata": {},
   "outputs": [
    {
     "data": {
      "text/plain": [
       "[('foo', 2), ('bar', 4), ('far', 6)]"
      ]
     },
     "execution_count": 6,
     "metadata": {},
     "output_type": "execute_result"
    }
   ],
   "source": [
    "list(group_adjacent(a,2))"
   ]
  },
  {
   "cell_type": "code",
   "execution_count": 11,
   "metadata": {},
   "outputs": [
    {
     "data": {
      "text/plain": [
       "[<list_iterator at 0x1da537cf400>, <list_iterator at 0x1da537cf400>]"
      ]
     },
     "execution_count": 11,
     "metadata": {},
     "output_type": "execute_result"
    }
   ],
   "source": [
    "list()"
   ]
  },
  {
   "cell_type": "code",
   "execution_count": 14,
   "metadata": {},
   "outputs": [
    {
     "name": "stdout",
     "output_type": "stream",
     "text": [
      "(<list_iterator object at 0x000001DA537952B0>,)\n",
      "(<list_iterator object at 0x000001DA537952B0>,)\n"
     ]
    }
   ],
   "source": [
    "for i in zip([iter(a)] * 2):\n",
    "    print(i)"
   ]
  },
  {
   "cell_type": "code",
   "execution_count": 16,
   "metadata": {},
   "outputs": [
    {
     "data": {
      "text/plain": [
       "[(1, 3), (2, 4)]"
      ]
     },
     "execution_count": 16,
     "metadata": {},
     "output_type": "execute_result"
    }
   ],
   "source": [
    "list(zip(*[[1,2],[3,4]]))"
   ]
  },
  {
   "cell_type": "code",
   "execution_count": 17,
   "metadata": {},
   "outputs": [
    {
     "data": {
      "text/plain": [
       "<zip at 0x1da53876e48>"
      ]
     },
     "execution_count": 17,
     "metadata": {},
     "output_type": "execute_result"
    }
   ],
   "source": [
    "a = [\"foo\", 2, \"bar\", 4, \"far\", 6]\n",
    "group_adjacent = lambda x, k: zip(*([iter(x),iter(x)]))\n",
    "group_adjacent(a,2)"
   ]
  },
  {
   "cell_type": "code",
   "execution_count": 18,
   "metadata": {},
   "outputs": [
    {
     "data": {
      "text/plain": [
       "[('foo', 'foo'), (2, 2), ('bar', 'bar'), (4, 4), ('far', 'far'), (6, 6)]"
      ]
     },
     "execution_count": 18,
     "metadata": {},
     "output_type": "execute_result"
    }
   ],
   "source": [
    "list(group_adjacent(a,2))"
   ]
  },
  {
   "cell_type": "code",
   "execution_count": 19,
   "metadata": {},
   "outputs": [
    {
     "data": {
      "text/plain": [
       "'ahello pyqt5.hello pyqt5c'"
      ]
     },
     "execution_count": 19,
     "metadata": {},
     "output_type": "execute_result"
    }
   ],
   "source": [
    "dss='hello pyqt5'\n",
    "s2=dss.join(['a','.','c'])\n",
    "s2"
   ]
  },
  {
   "cell_type": "code",
   "execution_count": 21,
   "metadata": {},
   "outputs": [
    {
     "data": {
      "text/plain": [
       "'ahello pyqt5.hello pyqt5c'"
      ]
     },
     "execution_count": 21,
     "metadata": {},
     "output_type": "execute_result"
    }
   ],
   "source": [
    "dss='hello pyqt5'\n",
    "s2=dss.join(['a','.','c'])\n",
    "s2"
   ]
  },
  {
   "cell_type": "code",
   "execution_count": 25,
   "metadata": {},
   "outputs": [
    {
     "data": {
      "text/plain": [
       "'ahello pyqt5'"
      ]
     },
     "execution_count": 25,
     "metadata": {},
     "output_type": "execute_result"
    }
   ],
   "source": [
    "dss.join(['a',''])"
   ]
  },
  {
   "cell_type": "code",
   "execution_count": 26,
   "metadata": {},
   "outputs": [
    {
     "data": {
      "text/plain": [
       "'Ajfksald'"
      ]
     },
     "execution_count": 26,
     "metadata": {},
     "output_type": "execute_result"
    }
   ],
   "source": [
    "'AjfksalD'.capitalize()"
   ]
  },
  {
   "cell_type": "code",
   "execution_count": 28,
   "metadata": {},
   "outputs": [
    {
     "data": {
      "text/plain": [
       "7"
      ]
     },
     "execution_count": 28,
     "metadata": {},
     "output_type": "execute_result"
    }
   ],
   "source": [
    "list('AjfksalD').index('D')"
   ]
  },
  {
   "cell_type": "code",
   "execution_count": 32,
   "metadata": {},
   "outputs": [
    {
     "data": {
      "text/plain": [
       "'D'"
      ]
     },
     "execution_count": 32,
     "metadata": {},
     "output_type": "execute_result"
    }
   ],
   "source": [
    "list('AjfksalD').pop(-1)"
   ]
  },
  {
   "cell_type": "code",
   "execution_count": 35,
   "metadata": {},
   "outputs": [
    {
     "ename": "ValueError",
     "evalue": "list.remove(x): x not in list",
     "output_type": "error",
     "traceback": [
      "\u001b[1;31m------------------------------------------------------------------\u001b[0m",
      "\u001b[1;31mValueError\u001b[0m                       Traceback (most recent call last)",
      "\u001b[1;32m<ipython-input-35-1fa18f3f7329>\u001b[0m in \u001b[0;36m<module>\u001b[1;34m()\u001b[0m\n\u001b[1;32m----> 1\u001b[1;33m \u001b[0mlist\u001b[0m\u001b[1;33m(\u001b[0m\u001b[1;34m'AjfksalD'\u001b[0m\u001b[1;33m)\u001b[0m\u001b[1;33m.\u001b[0m\u001b[0mremove\u001b[0m\u001b[1;33m(\u001b[0m\u001b[1;34m'c'\u001b[0m\u001b[1;33m)\u001b[0m\u001b[1;33m\u001b[0m\u001b[0m\n\u001b[0m",
      "\u001b[1;31mValueError\u001b[0m: list.remove(x): x not in list"
     ]
    }
   ],
   "source": [
    "list('AjfksalD').remove('c')"
   ]
  },
  {
   "cell_type": "code",
   "execution_count": 39,
   "metadata": {},
   "outputs": [
    {
     "data": {
      "text/plain": [
       "['A', 'b', 'j', 'f', 'k', 's', 'a', 'l', 'D']"
      ]
     },
     "execution_count": 39,
     "metadata": {},
     "output_type": "execute_result"
    }
   ],
   "source": [
    "lst = list('AjfksalD')\n",
    "lst.insert(1,'b')\n",
    "lst"
   ]
  },
  {
   "cell_type": "code",
   "execution_count": null,
   "metadata": {},
   "outputs": [],
   "source": [
    "list('AjfksalD').sort()"
   ]
  },
  {
   "cell_type": "code",
   "execution_count": 40,
   "metadata": {},
   "outputs": [
    {
     "ename": "NameError",
     "evalue": "name 'cmp' is not defined",
     "output_type": "error",
     "traceback": [
      "\u001b[1;31m------------------------------------------------------------------\u001b[0m",
      "\u001b[1;31mNameError\u001b[0m                        Traceback (most recent call last)",
      "\u001b[1;32m<ipython-input-40-80c345942207>\u001b[0m in \u001b[0;36m<module>\u001b[1;34m()\u001b[0m\n\u001b[1;32m----> 1\u001b[1;33m \u001b[0mcmp\u001b[0m\u001b[1;33m(\u001b[0m\u001b[0mlist\u001b[0m\u001b[1;33m(\u001b[0m\u001b[1;34m'Ab'\u001b[0m\u001b[1;33m)\u001b[0m\u001b[1;33m,\u001b[0m\u001b[0mlist\u001b[0m\u001b[1;33m(\u001b[0m\u001b[1;34m'B'\u001b[0m\u001b[1;33m)\u001b[0m\u001b[1;33m)\u001b[0m\u001b[1;33m\u001b[0m\u001b[0m\n\u001b[0m",
      "\u001b[1;31mNameError\u001b[0m: name 'cmp' is not defined"
     ]
    }
   ],
   "source": [
    "cmp(list('Ab'),list('B'))"
   ]
  },
  {
   "cell_type": "code",
   "execution_count": null,
   "metadata": {},
   "outputs": [],
   "source": [
    "list('Bd').cmp()"
   ]
  },
  {
   "cell_type": "code",
   "execution_count": 41,
   "metadata": {},
   "outputs": [
    {
     "data": {
      "text/plain": [
       "True"
      ]
     },
     "execution_count": 41,
     "metadata": {},
     "output_type": "execute_result"
    }
   ],
   "source": [
    "list('Ab') > list('A')"
   ]
  },
  {
   "cell_type": "code",
   "execution_count": 42,
   "metadata": {},
   "outputs": [
    {
     "data": {
      "text/plain": [
       "\"['a', 'b']\""
      ]
     },
     "execution_count": 42,
     "metadata": {},
     "output_type": "execute_result"
    }
   ],
   "source": [
    "str(list('ab'))"
   ]
  },
  {
   "cell_type": "code",
   "execution_count": 49,
   "metadata": {},
   "outputs": [
    {
     "data": {
      "text/plain": [
       "'o'"
      ]
     },
     "execution_count": 49,
     "metadata": {},
     "output_type": "execute_result"
    }
   ],
   "source": [
    "chr(111)"
   ]
  },
  {
   "cell_type": "markdown",
   "metadata": {},
   "source": [
    "radiansdict.clear() \t删除字典内所有元素\n",
    "radiansdict.copy() \t返回一个字典的浅复制\n",
    "radiansdict.fromkeys() \t创建一个新字典，以序列seq中元素做字典的键，val为字典所有键对应的初始值\n",
    "radiansdict.get(key, default=None) \t返回指定键的值，如果值不在字典中返回default值\n",
    "radiansdict.has_key(key) \t如果键在字典dict里返回true，否则返回false\n",
    "radiansdict.items() \t以列表返回可遍历的(键, 值) 元组数组\n",
    "radiansdict.keys() \t以列表返回一个字典所有的键\n",
    "radiansdict.setdefault(key, default=None) \t和get()类似, 但如果键不已经存在于字典中，将会添加键并将值设为default\n",
    "radiansdict.update(dict2) \t把字典dict2的键/值对更新到dict里\n",
    "radiansdict.values() \t以列表返回字典中的所有值"
   ]
  },
  {
   "cell_type": "code",
   "execution_count": 52,
   "metadata": {},
   "outputs": [],
   "source": [
    "radiansdict = {1:'a'}\n",
    "radiansdict"
   ]
  },
  {
   "cell_type": "code",
   "execution_count": 59,
   "metadata": {},
   "outputs": [
    {
     "ename": "NameError",
     "evalue": "name 'rdiansdict' is not defined",
     "output_type": "error",
     "traceback": [
      "\u001b[1;31m------------------------------------------------------------------\u001b[0m",
      "\u001b[1;31mNameError\u001b[0m                        Traceback (most recent call last)",
      "\u001b[1;32m<ipython-input-59-af2769cccebe>\u001b[0m in \u001b[0;36m<module>\u001b[1;34m()\u001b[0m\n\u001b[1;32m----> 1\u001b[1;33m \u001b[0mrdiansdict\u001b[0m\u001b[1;33m.\u001b[0m\u001b[0mfromkeys\u001b[0m\u001b[1;33m(\u001b[0m\u001b[1;33m[\u001b[0m\u001b[1;36m1\u001b[0m\u001b[1;33m,\u001b[0m\u001b[1;36m2\u001b[0m\u001b[1;33m,\u001b[0m\u001b[1;36m3\u001b[0m\u001b[1;33m]\u001b[0m\u001b[1;33m,\u001b[0m\u001b[0mlist\u001b[0m\u001b[1;33m(\u001b[0m\u001b[1;34m'abc'\u001b[0m\u001b[1;33m)\u001b[0m\u001b[1;33m)\u001b[0m\u001b[1;33m\u001b[0m\u001b[0m\n\u001b[0m\u001b[0;32m      2\u001b[0m \u001b[0mrdiansdict\u001b[0m\u001b[1;33m\u001b[0m\u001b[0m\n",
      "\u001b[1;31mNameError\u001b[0m: name 'rdiansdict' is not defined"
     ]
    }
   ],
   "source": [
    "radiansdict.fromkeys([1,2,3],list('abc'))\n",
    "radiansdict"
   ]
  },
  {
   "cell_type": "code",
   "execution_count": 73,
   "metadata": {},
   "outputs": [
    {
     "data": {
      "text/plain": [
       "{1: None, 2: None}"
      ]
     },
     "execution_count": 73,
     "metadata": {},
     "output_type": "execute_result"
    }
   ],
   "source": [
    "# radiansdict = {}\n",
    "radiansdict.fromkeys([1,2])"
   ]
  },
  {
   "cell_type": "code",
   "execution_count": 74,
   "metadata": {},
   "outputs": [
    {
     "data": {
      "text/plain": [
       "{}"
      ]
     },
     "execution_count": 74,
     "metadata": {},
     "output_type": "execute_result"
    }
   ],
   "source": [
    "sdict = {}\n",
    "sdict.fromkeys([1,2,3])\n",
    "sdict.update(radiansdict)\n",
    "sdict"
   ]
  },
  {
   "cell_type": "code",
   "execution_count": 75,
   "metadata": {},
   "outputs": [
    {
     "data": {
      "text/plain": [
       "{1: 'a', 2: 'b'}"
      ]
     },
     "execution_count": 75,
     "metadata": {},
     "output_type": "execute_result"
    }
   ],
   "source": [
    "radiansdict = {1:'a',2:'b'}\n",
    "radiansdict"
   ]
  },
  {
   "cell_type": "code",
   "execution_count": 78,
   "metadata": {},
   "outputs": [],
   "source": [
    "radiansdict.update([(3,'c')])"
   ]
  },
  {
   "cell_type": "code",
   "execution_count": 79,
   "metadata": {},
   "outputs": [
    {
     "data": {
      "text/plain": [
       "{1: 'a', 2: 'b', 3: 'c'}"
      ]
     },
     "execution_count": 79,
     "metadata": {},
     "output_type": "execute_result"
    }
   ],
   "source": [
    "radiansdict"
   ]
  },
  {
   "cell_type": "code",
   "execution_count": 81,
   "metadata": {},
   "outputs": [
    {
     "data": {
      "text/plain": [
       "dict_keys([1, 2, 3])"
      ]
     },
     "execution_count": 81,
     "metadata": {},
     "output_type": "execute_result"
    }
   ],
   "source": [
    "radiansdict.keys()"
   ]
  },
  {
   "cell_type": "code",
   "execution_count": 82,
   "metadata": {},
   "outputs": [
    {
     "data": {
      "text/plain": [
       "7"
      ]
     },
     "execution_count": 82,
     "metadata": {},
     "output_type": "execute_result"
    }
   ],
   "source": [
    "import functools  # 需要先加载functools模块\n",
    "def add(a, b):\n",
    "    return a + b\n",
    "plus3 = functools.partial(add, 3)\n",
    "plus3(4)"
   ]
  },
  {
   "cell_type": "code",
   "execution_count": 85,
   "metadata": {},
   "outputs": [],
   "source": [
    "class MyClass:\n",
    "    name = \"DefaultName\"\n",
    "    count = 0\n",
    "\n",
    "    def __init__(self, name):\n",
    "        self.name = name\n",
    "        print('类的变量为%s\\n对象的变量是%s\\n' % ( MyClass.name, self.name))\n",
    "    def setCount(self, count):\n",
    "        self.count = count\n",
    "        return None\n",
    "    def getCount(self):\n",
    "        return self.count"
   ]
  },
  {
   "cell_type": "code",
   "execution_count": 86,
   "metadata": {},
   "outputs": [
    {
     "name": "stdout",
     "output_type": "stream",
     "text": [
      "类的变量为DefaultName\n",
      "对象的变量是mine\n",
      "\n"
     ]
    }
   ],
   "source": [
    "cls = MyClass('mine')"
   ]
  },
  {
   "cell_type": "markdown",
   "metadata": {},
   "source": [
    "类的动态属性操作"
   ]
  },
  {
   "cell_type": "code",
   "execution_count": 87,
   "metadata": {},
   "outputs": [
    {
     "name": "stdout",
     "output_type": "stream",
     "text": [
      "set param: None\n",
      "get param: 10\n",
      "current param : 10 \n",
      "del param: 10\n"
     ]
    }
   ],
   "source": [
    "class MyClass(object):\n",
    "    def __init__(self):\n",
    "        self._param = None\n",
    "    def getParam(self):\n",
    "        print( \"get param: %s\" % self._param)\n",
    "        return self._param\n",
    "    def setParam(self, value):\n",
    "        print( \"set param: %s\" % self._param)\n",
    "        self._param = value\n",
    "    def delParam(self):\n",
    "        print( \"del param: %s\" % self._param)\n",
    "        del self._param\n",
    "    \n",
    "    param = property(getParam, setParam, delParam)\n",
    "\n",
    "cls = MyClass()\n",
    "cls.param = 10\n",
    "print(\"current param : %s \" % cls.param )\n",
    "del cls.param"
   ]
  },
  {
   "cell_type": "code",
   "execution_count": 90,
   "metadata": {},
   "outputs": [
    {
     "name": "stdout",
     "output_type": "stream",
     "text": [
      "set param: None\n",
      "get param: 10\n",
      "current param : 10 \n",
      "del param: 10\n"
     ]
    }
   ],
   "source": [
    "class MyClass(object):\n",
    "    def __init__(self):\n",
    "        self._param = None\n",
    "    \n",
    "    @property            # @property和@param.setter不同\n",
    "    def param(self):\n",
    "        print( \"get param: %s\" % self._param)\n",
    "        return self._param\n",
    "    \n",
    "    @param.setter\n",
    "    def param(self, value):  # 不同于setParam\n",
    "        print( \"set param: %s\" % self._param)\n",
    "        self._param = value\n",
    "        \n",
    "    @param.deleter\n",
    "    def param(self):  # 不同于delParam\n",
    "        print( \"del param: %s\" % self._param)\n",
    "        del self._param\n",
    "\n",
    "cls = MyClass()\n",
    "cls.param = 10\n",
    "print(\"current param : %s \" % cls.param )\n",
    "del cls.param"
   ]
  },
  {
   "cell_type": "code",
   "execution_count": null,
   "metadata": {},
   "outputs": [],
   "source": []
  },
  {
   "cell_type": "code",
   "execution_count": null,
   "metadata": {},
   "outputs": [],
   "source": []
  }
 ],
 "metadata": {
  "kernelspec": {
   "display_name": "Python 3",
   "language": "python",
   "name": "python3"
  },
  "language_info": {
   "codemirror_mode": {
    "name": "ipython",
    "version": 3
   },
   "file_extension": ".py",
   "mimetype": "text/x-python",
   "name": "python",
   "nbconvert_exporter": "python",
   "pygments_lexer": "ipython3",
   "version": "3.6.2"
  }
 },
 "nbformat": 4,
 "nbformat_minor": 2
}
